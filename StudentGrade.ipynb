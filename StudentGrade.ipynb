{
  "nbformat": 4,
  "nbformat_minor": 0,
  "metadata": {
    "colab": {
      "provenance": [],
      "authorship_tag": "ABX9TyMPt2h5656JhKkX+pt+qzQe",
      "include_colab_link": true
    },
    "kernelspec": {
      "name": "python3",
      "display_name": "Python 3"
    },
    "language_info": {
      "name": "python"
    }
  },
  "cells": [
    {
      "cell_type": "markdown",
      "metadata": {
        "id": "view-in-github",
        "colab_type": "text"
      },
      "source": [
        "<a href=\"https://colab.research.google.com/github/maryamzeea/Python-Basic/blob/main/StudentGrade.ipynb\" target=\"_parent\"><img src=\"https://colab.research.google.com/assets/colab-badge.svg\" alt=\"Open In Colab\"/></a>"
      ]
    },
    {
      "cell_type": "code",
      "execution_count": 8,
      "metadata": {
        "colab": {
          "base_uri": "https://localhost:8080/"
        },
        "id": "hKI_o_O4xvZo",
        "outputId": "e96abde5-9c49-461a-bf9f-7f2c8554007c"
      },
      "outputs": [
        {
          "output_type": "stream",
          "name": "stdout",
          "text": [
            "What is your score in your exam? separated by commas49,90,99,80,40,56,57,23,70,80\n",
            "\n",
            " Students Grades\n",
            "Student1. Score=49 Grade=F\n",
            "Student2. Score=90 Grade=A\n",
            "Student3. Score=99 Grade=A\n",
            "Student4. Score=80 Grade=B\n",
            "Student5. Score=40 Grade=F\n",
            "Student6. Score=56 Grade=E\n",
            "Student7. Score=57 Grade=E\n",
            "Student8. Score=23 Grade=F\n",
            "Student9. Score=70 Grade=C\n",
            "Student10. Score=80 Grade=B\n",
            "Passed Students:5\n",
            "Failed Students:5\n"
          ]
        }
      ],
      "source": [
        "student_score = input(\"What is your score in your exam? separated by commas\")\n",
        "scores = [int(score)for score in student_score.split(\",\")]\n",
        "\n",
        "Grade=[\n",
        "    \"A\" if score >= 90 else\n",
        "    \"B\" if score >= 80 else\n",
        "    \"C\" if score >= 70 else\n",
        "    \"D\" if score >= 60 else\n",
        "    \"E\" if score >= 50 else\n",
        "    \"F\"\n",
        "    for score in scores\n",
        "]\n",
        "\n",
        "passing_student=[score for score in scores if score >=60]\n",
        "failed_student=[score for score in scores if score<60]\n",
        "\n",
        "print(\"\\n Students Grades\")\n",
        "for i , (score,grade) in enumerate(zip(scores,Grade)):\n",
        "    print(f\"Student{i+1}. Score={score} Grade={grade}\")\n",
        "\n",
        "print(f\"Passed Students:{len(passing_student)}\")\n",
        "print(f\"Failed Students:{len(failed_student)}\")\n",
        "\n",
        "\n",
        "\n"
      ]
    }
  ]
}
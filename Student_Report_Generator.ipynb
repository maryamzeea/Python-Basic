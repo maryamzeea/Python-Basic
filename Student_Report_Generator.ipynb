{
  "nbformat": 4,
  "nbformat_minor": 0,
  "metadata": {
    "colab": {
      "provenance": [],
      "authorship_tag": "ABX9TyMP54QORG1OWJQZFbV8vMk6",
      "include_colab_link": true
    },
    "kernelspec": {
      "name": "python3",
      "display_name": "Python 3"
    },
    "language_info": {
      "name": "python"
    }
  },
  "cells": [
    {
      "cell_type": "markdown",
      "metadata": {
        "id": "view-in-github",
        "colab_type": "text"
      },
      "source": [
        "<a href=\"https://colab.research.google.com/github/maryamzeea/Python-Basic/blob/main/Student_Report_Generator.ipynb\" target=\"_parent\"><img src=\"https://colab.research.google.com/assets/colab-badge.svg\" alt=\"Open In Colab\"/></a>"
      ]
    },
    {
      "cell_type": "code",
      "execution_count": 20,
      "metadata": {
        "id": "Uww3elmLsxcK",
        "colab": {
          "base_uri": "https://localhost:8080/"
        },
        "outputId": "4bc41b4f-2bf4-4de4-c9a0-480609a6481d"
      },
      "outputs": [
        {
          "output_type": "stream",
          "name": "stdout",
          "text": [
            "Student report student_report.csv generated successfully\n"
          ]
        }
      ],
      "source": [
        "import csv\n",
        "\n",
        "def process_result(input_file,output_file):\n",
        "  try:\n",
        "    with open(input_file, 'r') as infile:\n",
        "      reader = csv.DictReader(infile)\n",
        "      student_report = []\n",
        "\n",
        "      for row in reader:\n",
        "        name = row['Name']\n",
        "        maths = row['Maths']\n",
        "        english = row['English']\n",
        "        cs = row['Cs']\n",
        "        total = int(maths) + int(english) + int(cs)\n",
        "        average = round(total/3,2)\n",
        "        status = \"Pass\" if average >= 60 else \"Fail\"\n",
        "        student_report.append({\n",
        "          'Name': name,\n",
        "          'Maths': maths,\n",
        "          'English': english,\n",
        "          'Cs': cs,\n",
        "          'Total': total,\n",
        "          'Average': average,\n",
        "          'Status': status\n",
        "        })\n",
        "    with open('student_report.csv', 'w', newline='') as outfile:\n",
        "      fieldnames = ['Name', 'Maths', 'English', 'Cs', 'Total', 'Average', 'Status']\n",
        "      writer = csv.DictWriter(outfile, fieldnames=fieldnames)\n",
        "      writer.writeheader()\n",
        "      writer.writerows(student_report)\n",
        "\n",
        "      print(f\"Student report {output_file} generated successfully\")\n",
        "\n",
        "  except FileNotFoundError:\n",
        "    print(f\"File '{input_file}' not found.\")\n",
        "  except KeyError:\n",
        "    print(\"Invalid column names in the input file.\")\n",
        "  except Exception as e:\n",
        "    print(f\"An error occurred: {e}\")\n",
        "\n",
        "\n",
        "input_file = \"Grades.csv\"\n",
        "output_file = \"student_report.csv\"\n",
        "process_result(input_file,output_file)"
      ]
    }
  ]
}
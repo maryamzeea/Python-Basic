{
  "nbformat": 4,
  "nbformat_minor": 0,
  "metadata": {
    "colab": {
      "provenance": [],
      "authorship_tag": "ABX9TyMonBKjz+aYE4TqPEUIW8DI",
      "include_colab_link": true
    },
    "kernelspec": {
      "name": "python3",
      "display_name": "Python 3"
    },
    "language_info": {
      "name": "python"
    }
  },
  "cells": [
    {
      "cell_type": "markdown",
      "metadata": {
        "id": "view-in-github",
        "colab_type": "text"
      },
      "source": [
        "<a href=\"https://colab.research.google.com/github/maryamzeea/Python-Basic/blob/main/Journal_logger.ipynb\" target=\"_parent\"><img src=\"https://colab.research.google.com/assets/colab-badge.svg\" alt=\"Open In Colab\"/></a>"
      ]
    },
    {
      "cell_type": "code",
      "execution_count": null,
      "metadata": {
        "colab": {
          "base_uri": "https://localhost:8080/"
        },
        "id": "0_pPnvm-NQML",
        "outputId": "95f3ebe9-0528-48cc-dbac-c0955116f136"
      },
      "outputs": [
        {
          "output_type": "stream",
          "name": "stdout",
          "text": [
            "\n",
            "Journal Menu:\n",
            "1. Add Entry\n",
            "2. View Entries\n",
            "3. Search Entries\n",
            "4. Quit\n"
          ]
        }
      ],
      "source": [
        "#Start_journal\n",
        "File_Journal = \"Jornal_entries.txt\"\n",
        "\n",
        "def add_entries():\n",
        "  entry = input(\"Write the entry:\")\n",
        "  with open(File_Journal,\"a\") as file:\n",
        "    file.write(entry + \"\\n\")\n",
        "  print(\"Entry successfully added\")\n",
        "\n",
        "def view_entries():\n",
        "  try:\n",
        "    with open(File_Journal,\"r\") as file:\n",
        "      entries = file.read()\n",
        "      if entries:\n",
        "        print(entries)\n",
        "      else:\n",
        "        print(\"No entries found\")\n",
        "  except FileNotFoundError:\n",
        "    print(\"No entries found\")\n",
        "\n",
        "def search_entries():\n",
        "  keyword = input(\"Enter the  keyword:\").lower()\n",
        "  try:\n",
        "    with open(File_Journal,\"r\") as file:\n",
        "      entries = file.readlines()\n",
        "      found = False\n",
        "      for entry in entries:\n",
        "        if keyword in entry.lower():\n",
        "          print(f\"{entry}found\".strip())\n",
        "          found = True\n",
        "\n",
        "      if not found:\n",
        "        print(\"No entries found\")\n",
        "  except FileNotFoundError:\n",
        "    print(\"No entries found\")\n",
        "\n",
        "def display_menu():\n",
        "  print(\"\\nJournal Menu:\")\n",
        "  print(\"1. Add Entry\")\n",
        "  print(\"2. View Entries\")\n",
        "  print(\"3. Search Entries\")\n",
        "  print(\"4. Quit\")\n",
        "\n",
        "while True:\n",
        "  display_menu()\n",
        "  choice = input(\"Enter your choice (1/2/3/4):\")\n",
        "\n",
        "  try:\n",
        "    if choice == \"1\":\n",
        "      add_entries()\n",
        "    elif choice == \"2\":\n",
        "      view_entries()\n",
        "    elif choice == \"3\":\n",
        "      search_entries()\n",
        "    elif choice == \"4\":\n",
        "      print(\"Goodbye!\")\n",
        "      break\n",
        "    else:\n",
        "      print(\"Invalid choice. Please try again.\")\n",
        "  except Exception as e:\n",
        "    print(f\"An error occurred: {e}\")\n",
        "\n",
        ""
      ]
    }
  ]
}
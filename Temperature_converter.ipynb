{
  "nbformat": 4,
  "nbformat_minor": 0,
  "metadata": {
    "colab": {
      "provenance": [],
      "authorship_tag": "ABX9TyNRaBnyf0a+WRB9wDFq3cdS",
      "include_colab_link": true
    },
    "kernelspec": {
      "name": "python3",
      "display_name": "Python 3"
    },
    "language_info": {
      "name": "python"
    }
  },
  "cells": [
    {
      "cell_type": "markdown",
      "metadata": {
        "id": "view-in-github",
        "colab_type": "text"
      },
      "source": [
        "<a href=\"https://colab.research.google.com/github/maryamzeea/Python-Basic/blob/main/Temperature_converter.ipynb\" target=\"_parent\"><img src=\"https://colab.research.google.com/assets/colab-badge.svg\" alt=\"Open In Colab\"/></a>"
      ]
    },
    {
      "cell_type": "code",
      "execution_count": null,
      "metadata": {
        "colab": {
          "base_uri": "https://localhost:8080/"
        },
        "id": "_QuiLo31enSB",
        "outputId": "34b1f2bb-dedc-45d8-8499-69f774d40a94"
      },
      "outputs": [
        {
          "output_type": "stream",
          "name": "stdout",
          "text": [
            "Temperature Converter\n",
            "1. Celcius to Fahrenheit\n",
            "2. Celcius to Kelvin\n",
            "3. Kelvin to Celcius\n",
            "4. Kelvin to Fahrenheit\n",
            "5. Fahrenheit to Celcius\n",
            "6. Fahrenheit to Kelvin\n",
            "Enter your choice: 1\n",
            "Enter temperature in Celcius: 36\n",
            "Temperature in Fahrenheit:  96.8\n",
            "Temperature Converter\n",
            "1. Celcius to Fahrenheit\n",
            "2. Celcius to Kelvin\n",
            "3. Kelvin to Celcius\n",
            "4. Kelvin to Fahrenheit\n",
            "5. Fahrenheit to Celcius\n",
            "6. Fahrenheit to Kelvin\n"
          ]
        }
      ],
      "source": [
        "def Celcius_to_Fahrenheit(Celcius):\n",
        "  return (Celcius * 9/5) + 32\n",
        "\n",
        "def Celsius_to_Kelvin(Celcius):\n",
        "  return Celcius + 273.15\n",
        "\n",
        "def Kelvin_to_Celcius(Kelvin):\n",
        "  return Kelvin - 273.15\n",
        "\n",
        "def Kelvin_to_Fahrenheit(Kelvin):\n",
        "  return (Kelvin - 273.15) * 9/5 + 32\n",
        "\n",
        "def Fahrenheit_to_Celcius(Fahrenheit):\n",
        "  return (Fahrenheit - 32) * 5/9\n",
        "\n",
        "def Fahrenheit_to_Kelvin(Fahrenheit):\n",
        "  return (Fahrenheit - 32) * 5/9 + 273.15\n",
        "\n",
        "def display():\n",
        "  print(\"Temperature Converter\")\n",
        "  print(\"1. Celcius to Fahrenheit\")\n",
        "  print(\"2. Celcius to Kelvin\")\n",
        "  print(\"3. Kelvin to Celcius\")\n",
        "  print(\"4. Kelvin to Fahrenheit\")\n",
        "  print(\"5. Fahrenheit to Celcius\")\n",
        "  print(\"6. Fahrenheit to Kelvin\")\n",
        "\n",
        "while True:\n",
        "  display()\n",
        "  choice = int(input(\"Enter your choice: \"))\n",
        "  try:\n",
        "    if choice == 1:\n",
        "      Celcius = float(input(\"Enter temperature in Celcius: \"))\n",
        "      print(\"Temperature in Fahrenheit: \", Celcius_to_Fahrenheit(Celcius))\n",
        "    elif choice == 2:\n",
        "      Celcius = float(input(\"Enter temperature in Celcius: \"))\n",
        "      print(\"Temperature in Kelvin: \", Celsius_to_Kelvin(Celcius))\n",
        "\n",
        "    elif choice == 3:\n",
        "      Kelvin = float(input(\"Enter temperature in Kelvin: \"))\n",
        "      print(\"Temperature in Celcius: \", Kelvin_to_Celcius(Kelvin))\n",
        "\n",
        "    elif choice == 4:\n",
        "      Kelvin = float(input(\"Enter temperature in Kelvin: \"))\n",
        "      print(\"Temperature in Fahrenheit: \", Kelvin_to_Fahrenheit(Kelvin))\n",
        "\n",
        "    elif choice == 5:\n",
        "      Fahrenheit = float(input(\"Enter temperature in Fahrenheit: \"))\n",
        "      print(\"Temperature in Celcius: \", Fahrenheit_to_Celcius(Fahrenheit))\n",
        "\n",
        "    elif choice == 6:\n",
        "      Fahrenheit = float(input(\"Enter temperature in Fahrenheit: \"))\n",
        "      print(\"Temperature in Kelvin: \", Fahrenheit_to_Kelvin(Fahrenheit))\n",
        "  except ValueError:\n",
        "    print(\"Invalid input\")\n",
        "\n",
        "\n",
        "\n"
      ]
    }
  ]
}
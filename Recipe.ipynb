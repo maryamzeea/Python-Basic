{
  "nbformat": 4,
  "nbformat_minor": 0,
  "metadata": {
    "colab": {
      "provenance": [],
      "authorship_tag": "ABX9TyOBGbuG08SE1lEuRBLz8Q6L",
      "include_colab_link": true
    },
    "kernelspec": {
      "name": "python3",
      "display_name": "Python 3"
    },
    "language_info": {
      "name": "python"
    }
  },
  "cells": [
    {
      "cell_type": "markdown",
      "metadata": {
        "id": "view-in-github",
        "colab_type": "text"
      },
      "source": [
        "<a href=\"https://colab.research.google.com/github/maryamzeea/Python-Basic/blob/main/Recipe.ipynb\" target=\"_parent\"><img src=\"https://colab.research.google.com/assets/colab-badge.svg\" alt=\"Open In Colab\"/></a>"
      ]
    },
    {
      "cell_type": "code",
      "execution_count": null,
      "metadata": {
        "colab": {
          "base_uri": "https://localhost:8080/"
        },
        "id": "R-r-B5KQaoMo",
        "outputId": "5333b688-aed6-429b-d804-f8477231a79c"
      },
      "outputs": [
        {
          "output_type": "stream",
          "name": "stdout",
          "text": [
            "Recipe Viewer Menu:\n",
            "1. View Recipes\n",
            "2. Recipes List\n",
            "3. Exit\n",
            "Enter your choice (1/2/3): 2\n",
            "Vanilla Cake Recipe\n",
            "Fresh Veggie Salad Recipe\n",
            "Banana Smoothie Recipe\n",
            "Recipe list displayed\n",
            "Recipe Viewer Menu:\n",
            "1. View Recipes\n",
            "2. Recipes List\n",
            "3. Exit\n"
          ]
        }
      ],
      "source": [
        "\n",
        "def recipe_viewer(file_path):\n",
        "  try:\n",
        "    with open(file_path, 'r') as file:\n",
        "      content = file.read()\n",
        "      recipes = content.split('\\n\\n')\n",
        "      recipe_dict = {}\n",
        "      for recipe in recipes:\n",
        "        lines = recipe.split('\\n')\n",
        "        if len(lines) >= 3:\n",
        "          recipe_name = lines[0].strip()\n",
        "          ingredients = lines[1].replace(\"Ingredients:\", \"\").strip()\n",
        "          instructions = lines[2].replace(\"Instructions:\", \"\").strip()\n",
        "          recipe_dict[recipe_name] = [\"Ingredients:\" ,ingredients, \"Instructions:\", instructions]\n",
        "      return recipe_dict\n",
        "  except FileNotFoundError:\n",
        "      print(f\"File not found: {file_path}\")\n",
        "      return{}\n",
        "\n",
        "def show_menu():\n",
        "    print(\"Recipe Viewer Menu:\")\n",
        "    print(\"1. View Recipes\")\n",
        "    print(\"2. Recipes List\")\n",
        "    print(\"3. Exit\")\n",
        "\n",
        "def view_recipes(recipes):\n",
        "    name = input(\"Enter the name of the recipe you want to view: \")\n",
        "    if name in recipes:\n",
        "        print(f\"\\nRecipe Name: {name}\")\n",
        "        print(f\"Ingredients: {recipes[name][1]}\")\n",
        "        print(f\"Instructions: {recipes[name][3]}\")\n",
        "    else:\n",
        "        print(\"Recipe not found.\")\n",
        "\n",
        "recipe_file=\"recipes.txt\"\n",
        "recipes = recipe_viewer(recipe_file)\n",
        "\n",
        "while True:\n",
        "    show_menu()\n",
        "    choice = input(\"Enter your choice (1/2/3): \")\n",
        "\n",
        "    if choice == \"1\":\n",
        "        view_recipes(recipes)\n",
        "\n",
        "    elif choice == \"2\":\n",
        "        for name in recipes:\n",
        "            print(name)\n",
        "        print(\"Recipe list displayed\")\n",
        "    elif choice == \"3\":\n",
        "        print(\"Exiting the program.\")\n",
        "        break\n",
        "\n",
        "    else:\n",
        "        print(\"Invalid choice. Please try again.\")\n",
        "\n",
        "\n",
        ""
      ]
    }
  ]
}
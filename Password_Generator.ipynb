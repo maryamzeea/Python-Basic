{
  "nbformat": 4,
  "nbformat_minor": 0,
  "metadata": {
    "colab": {
      "provenance": [],
      "authorship_tag": "ABX9TyPlVR98cgfRSUt5LBR+8h16",
      "include_colab_link": true
    },
    "kernelspec": {
      "name": "python3",
      "display_name": "Python 3"
    },
    "language_info": {
      "name": "python"
    }
  },
  "cells": [
    {
      "cell_type": "markdown",
      "metadata": {
        "id": "view-in-github",
        "colab_type": "text"
      },
      "source": [
        "<a href=\"https://colab.research.google.com/github/maryamzeea/Python-Basic/blob/main/Password_Generator.ipynb\" target=\"_parent\"><img src=\"https://colab.research.google.com/assets/colab-badge.svg\" alt=\"Open In Colab\"/></a>"
      ]
    },
    {
      "cell_type": "code",
      "execution_count": 12,
      "metadata": {
        "id": "NeoMgHgK_iG_",
        "colab": {
          "base_uri": "https://localhost:8080/"
        },
        "outputId": "c72ef5b0-5bac-45d1-c6a1-5f1b237cc000"
      },
      "outputs": [
        {
          "output_type": "stream",
          "name": "stdout",
          "text": [
            "Enter the digit for your password(minimum 4 digit):8\n",
            "<9PXv:/b\n"
          ]
        }
      ],
      "source": [
        "import random, string\n",
        "\n",
        "def password_generator(length):\n",
        "    if length<4:\n",
        "      raise ValueError(\"Passwrod must me atleast 4 characters\")\n",
        "\n",
        "    upper_case=string.ascii_uppercase\n",
        "    lower_case=string.ascii_lowercase\n",
        "    numbers=string.digits\n",
        "    symbols=string.punctuation\n",
        "    password =[\n",
        "      random.choice(upper_case),\n",
        "      random.choice(lower_case),\n",
        "      random.choice(numbers),\n",
        "      random.choice(symbols)\n",
        "    ]\n",
        "    all_characters = upper_case + lower_case + numbers + symbols\n",
        "    password += random.choices(all_characters,k=length - 4 )\n",
        "\n",
        "    random.shuffle(password)\n",
        "    return \"\".join(password)\n",
        "\n",
        "try:\n",
        "  length = int(input(\"Enter the digit for your password(minimum 4 digit):\"))\n",
        "  password = password_generator(length)\n",
        "  print(password)\n",
        "except ValueError as e:\n",
        "  print(e)\n"
      ]
    }
  ]
}